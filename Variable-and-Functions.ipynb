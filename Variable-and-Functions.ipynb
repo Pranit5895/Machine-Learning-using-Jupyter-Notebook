{
 "metadata": {
  "language_info": {
   "codemirror_mode": {
    "name": "ipython",
    "version": 3
   },
   "file_extension": ".py",
   "mimetype": "text/x-python",
   "name": "python",
   "nbconvert_exporter": "python",
   "pygments_lexer": "ipython3",
   "version": "3.7.4"
  },
  "orig_nbformat": 4,
  "kernelspec": {
   "name": "python3",
   "display_name": "Python 3.7.4 64-bit"
  },
  "interpreter": {
   "hash": "444f99bf3ff1b86a44a3c096e39a74d05077dab1e50584cc9a8c6c705c6a794d"
  }
 },
 "nbformat": 4,
 "nbformat_minor": 2,
 "cells": [
  {
   "cell_type": "code",
   "execution_count": 2,
   "metadata": {},
   "outputs": [],
   "source": [
    "x = 3 # type int \n",
    "y = 2.5 # type float\n",
    "prenom = 'Pierre' # type string\n",
    "z = True # type Bool"
   ]
  },
  {
   "cell_type": "code",
   "execution_count": 3,
   "metadata": {},
   "outputs": [
    {
     "output_type": "stream",
     "name": "stdout",
     "text": [
      "x + y = 5.5\nx - y = 0.5\nx / y = 1.2\nx // y = 1.0\nx * y = 7.5\nx ^ y = 15.588457268119896\n"
     ]
    }
   ],
   "source": [
    "print('x + y =', x + y)\n",
    "print('x - y =', x - y)\n",
    "print('x / y =', x / y)\n",
    "print('x // y =', x // y) \n",
    "print('x * y =', x * y)\n",
    "print('x ^ y =', x ** y) # x to the power y"
   ]
  },
  {
   "cell_type": "code",
   "execution_count": 4,
   "metadata": {},
   "outputs": [
    {
     "output_type": "stream",
     "name": "stdout",
     "text": [
      "Equality : False\nNot Equal : True\nGreater Than or Equal to : False\nLess Than or Equal to  : True\n"
     ]
    }
   ],
   "source": [
    "print('Equality :', x == y)\n",
    "print('Not Equal :', x != y)\n",
    "print('Greater Than or Equal to :', x <= y)\n",
    "print('Less Than or Equal to  :', x >= y)"
   ]
  },
  {
   "cell_type": "code",
   "execution_count": 5,
   "metadata": {},
   "outputs": [
    {
     "output_type": "stream",
     "name": "stdout",
     "text": [
      "AND : False\nOR : True\nEXCLUSIVE OR : True\n"
     ]
    }
   ],
   "source": [
    "print('AND :', False and True)\n",
    "print('OR :', False or True)\n",
    "print('EXCLUSIVE OR :', False ^ True)"
   ]
  },
  {
   "source": [
    "Functions"
   ],
   "cell_type": "markdown",
   "metadata": {}
  },
  {
   "cell_type": "code",
   "execution_count": 10,
   "metadata": {},
   "outputs": [
    {
     "output_type": "stream",
     "name": "stdout",
     "text": [
      "9\n"
     ]
    }
   ],
   "source": [
    "f = lambda x : x**2\n",
    "\n",
    "print(f(3))"
   ]
  },
  {
   "cell_type": "code",
   "execution_count": 11,
   "metadata": {},
   "outputs": [
    {
     "output_type": "stream",
     "name": "stdout",
     "text": [
      "12\n"
     ]
    }
   ],
   "source": [
    "g = lambda x, y : x**2 - y**2\n",
    "\n",
    "print(g(4, 2))"
   ]
  },
  {
   "cell_type": "code",
   "execution_count": 12,
   "metadata": {},
   "outputs": [
    {
     "output_type": "execute_result",
     "data": {
      "text/plain": [
       "5"
      ]
     },
     "metadata": {},
     "execution_count": 12
    }
   ],
   "source": [
    "def nom_de_la_fonction(argument_1, argument_2):\n",
    "   restultat = argument_1 + argument_2\n",
    "   return restultat\n",
    "\n",
    "nom_de_la_fonction(3, 2)"
   ]
  },
  {
   "cell_type": "code",
   "execution_count": 13,
   "metadata": {},
   "outputs": [
    {
     "output_type": "execute_result",
     "data": {
      "text/plain": [
       "981.0"
      ]
     },
     "metadata": {},
     "execution_count": 13
    }
   ],
   "source": [
    "def e_potentielle(masse, hauteur, g=9.81):\n",
    "  energie = masse * hauteur * g \n",
    "  return energie\n",
    "\n",
    "# ici g a une valeur par défaut donc nous ne sommes pas obligé de lui donner une valeur\n",
    "e_potentielle(masse=10, hauteur=10)"
   ]
  }
 ]
}